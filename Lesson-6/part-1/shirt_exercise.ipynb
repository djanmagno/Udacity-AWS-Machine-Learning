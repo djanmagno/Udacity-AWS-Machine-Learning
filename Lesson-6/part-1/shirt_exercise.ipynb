{
  "nbformat": 4,
  "nbformat_minor": 0,
  "metadata": {
    "kernelspec": {
      "display_name": "Python 3",
      "language": "python",
      "name": "python3"
    },
    "language_info": {
      "codemirror_mode": {
        "name": "ipython",
        "version": 3
      },
      "file_extension": ".py",
      "mimetype": "text/x-python",
      "name": "python",
      "nbconvert_exporter": "python",
      "pygments_lexer": "ipython3",
      "version": "3.9.1"
    },
    "colab": {
      "name": "shirt_exercise.ipynb",
      "provenance": []
    }
  },
  "cells": [
    {
      "cell_type": "markdown",
      "metadata": {
        "id": "3Z6c_uN9fvrv"
      },
      "source": [
        "# Use the Shirt Class\n",
        "\n",
        "You've seen what a class looks like and how to instantiate an object. Now it's your turn to write code that insantiates a shirt object.\n",
        "\n",
        "# Explanation of the Code\n",
        "This exercise using Jupyter notebook includes three files:\n",
        "- shirt_exercise.ipynb, which is the file you are currently looking at\n",
        "- answer.py containing answers to the exercise\n",
        "- tests.py, tests for checking your code - you can run these tests using the last code cell at the bottom of this notebook\n",
        "\n",
        "# Your Task\n",
        "The shirt_exercise.ipynb file, which you are currently looking at if you are reading this, has an exercise to help guide you through coding with an object in Python.\n",
        "\n",
        "Fill out the TODOs in each section of the Jupyter notebook. You can find a solution in the answer.py file.\n",
        "\n",
        "First, run this code cell below to load the Shirt class."
      ]
    },
    {
      "cell_type": "code",
      "metadata": {
        "id": "rVQNcSSwfvr3"
      },
      "source": [
        "class Shirt:\n",
        "\n",
        "    def __init__(self, shirt_color, shirt_size, shirt_style, shirt_price):\n",
        "        self.color = shirt_color\n",
        "        self.size = shirt_size\n",
        "        self.style = shirt_style\n",
        "        self.price = shirt_price\n",
        "    \n",
        "    def change_price(self, new_price):\n",
        "    \n",
        "        self.price = new_price\n",
        "        \n",
        "    def discount(self, discount):\n",
        "\n",
        "        return self.price * (1 - discount)"
      ],
      "execution_count": 32,
      "outputs": []
    },
    {
      "cell_type": "code",
      "metadata": {
        "id": "bLSzw973fvr5"
      },
      "source": [
        "### TODO:\n",
        "#    - insantiate a shirt object with the following characteristics:\n",
        "#        - color red, size S, style long-sleeve, and price 25\n",
        "#    - store the object in a variable called shirt_one\n",
        "#\n",
        "#\n",
        "###\n",
        "\n",
        "shirt_one = Shirt('red', 'S', 'long-sleeve', 25)"
      ],
      "execution_count": 33,
      "outputs": []
    },
    {
      "cell_type": "code",
      "metadata": {
        "colab": {
          "base_uri": "https://localhost:8080/"
        },
        "id": "ZC3tnLTofvr6",
        "outputId": "0ecc1038-dcb2-41fb-b0e6-ac76b08bf596"
      },
      "source": [
        "### TODO:\n",
        "#     - print the price of the shirt using the price attribute\n",
        "#     - use the change_price method to change the price of the shirt to 10\n",
        "#     - print the price of the shirt using the price attribute\n",
        "#     - use the discount method to print the price of the shirt with a 12% discount\n",
        "#\n",
        "###\n",
        "\n",
        "print('Initial price of shirt_one: $ %.2f' %(shirt_one.price))\n",
        "\n",
        "shirt_one.change_price(10)\n",
        "\n",
        "print('Price of shirt_one after change: $ %.2f' %(shirt_one.price))\n",
        "\n",
        "print('Discounted Price of shirt_one: $ %.2f' %(shirt_one.discount(0.12)))"
      ],
      "execution_count": 61,
      "outputs": [
        {
          "output_type": "stream",
          "name": "stdout",
          "text": [
            "Initial price of shirt_one: $ 10.00\n",
            "Price of shirt_one after change: $ 10.00\n",
            "Discounted Price of shirt_one: $ 8.80\n"
          ]
        }
      ]
    },
    {
      "cell_type": "code",
      "metadata": {
        "id": "owNYxW72fvr6"
      },
      "source": [
        "### TODO:\n",
        "#\n",
        "#    - instantiate another object with the following characteristics:\n",
        "# .       - color orange, size L, style short-sleeve, and price 10\n",
        "#    - store the object in a variable called shirt_two\n",
        "#\n",
        "###\n",
        "\n",
        "shirt_two = Shirt('orange', 'L', 'short-sleeve', 10)"
      ],
      "execution_count": 62,
      "outputs": []
    },
    {
      "cell_type": "code",
      "metadata": {
        "colab": {
          "base_uri": "https://localhost:8080/"
        },
        "id": "Etows18Pfvr7",
        "outputId": "d2688d46-c65e-4e7b-ae08-3241d2438665"
      },
      "source": [
        "### TODO:\n",
        "#\n",
        "#    - calculate the total cost of shirt_one and shirt_two\n",
        "#    - store the results in a variable called total\n",
        "#    \n",
        "###\n",
        "\n",
        "total = shirt_one.price + shirt_two.price\n",
        "print(f'The cost of buying shit_one and shirt_two is: $ {total:.2f}.')"
      ],
      "execution_count": 69,
      "outputs": [
        {
          "output_type": "stream",
          "name": "stdout",
          "text": [
            "The cost of buying shit_one and shirt_two is: $ 20.00.\n"
          ]
        }
      ]
    },
    {
      "cell_type": "code",
      "metadata": {
        "colab": {
          "base_uri": "https://localhost:8080/"
        },
        "id": "U_CW3OGRfvr8",
        "outputId": "582079ec-311c-4dbd-97a4-cad6052b5f56"
      },
      "source": [
        "### TODO:\n",
        "#\n",
        "#    - use the shirt discount method to calculate the total cost if\n",
        "#       shirt_one has a discount of 14% and shirt_two has a discount\n",
        "#       of 6%\n",
        "#    - store the results in a variable called total_discount\n",
        "###\n",
        "\n",
        "total_discount = shirt_one.discount(.06) + shirt_two.discount(.14)\n",
        "print(f'The total discount for buying shit_one and shirt_two is: $ {total_discount:.2f}.')"
      ],
      "execution_count": 71,
      "outputs": [
        {
          "output_type": "stream",
          "name": "stdout",
          "text": [
            "The total discount for buying shit_one and shirt_two is: $ 18.00.\n"
          ]
        }
      ]
    },
    {
      "cell_type": "markdown",
      "metadata": {
        "id": "F5Mr1_4bfvr9"
      },
      "source": [
        "# Test your Code\n",
        "\n",
        "\n",
        "The following code cell tests your code. \n",
        "\n",
        "There is a file called tests.py containing a function called run_tests(). The run_tests() function executes a handful of assert statements to check your work. You can see this file if you go to the Jupyter Notebook menu and click on \"File->Open\" and then open the tests.py file.\n",
        "\n",
        "Execute the next code cell. The code will produce an error if your answers in this exercise are not what was expected. Keep working on your code until all tests are passing.\n",
        "\n",
        "If you run the code cell and there is no output, then you passed all the tests!\n",
        "\n",
        "As mentioned previously, there's also a file with a solution. To find the solution, click on the Jupyter logo at the top of the workspace, and then enter the folder titled 1.OOP_syntax_shirt_practice"
      ]
    },
    {
      "cell_type": "code",
      "metadata": {
        "id": "essLZTeAfvr-"
      },
      "source": [
        "# Unit tests to check your solution\n",
        "from tests import run_tests\n",
        "\n",
        "run_tests(shirt_one, shirt_two, total, total_discount)"
      ],
      "execution_count": 72,
      "outputs": []
    }
  ]
}